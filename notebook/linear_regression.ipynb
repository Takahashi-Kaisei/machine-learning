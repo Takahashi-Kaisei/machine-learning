{
 "cells": [
  {
   "cell_type": "code",
   "execution_count": 2,
   "metadata": {},
   "outputs": [],
   "source": [
    "from sklearn.linear_model import LinearRegression\n",
    "from scipy.sparse.linalg import lsqr\n",
    "from sklearn.datasets import make_regression\n",
    "import numpy as np\n",
    "import random"
   ]
  },
  {
   "cell_type": "code",
   "execution_count": 32,
   "metadata": {},
   "outputs": [],
   "source": [
    "random_state = 6\n",
    "X, y = make_regression(random_state=random_state,\n",
    "                       n_samples=500,\n",
    "                       n_features=2,\n",
    "                       bias=np.random.RandomState(random_state).uniform(-10, 10))"
   ]
  },
  {
   "cell_type": "code",
   "execution_count": 33,
   "metadata": {},
   "outputs": [
    {
     "name": "stdout",
     "output_type": "stream",
     "text": [
      "[21.02265388  1.50752749]\n",
      "7.857203028720034\n"
     ]
    }
   ],
   "source": [
    "model = LinearRegression()\n",
    "model.fit(X, y)\n",
    "print(model.coef_)\n",
    "print(model.intercept_)"
   ]
  },
  {
   "cell_type": "code",
   "execution_count": 34,
   "metadata": {},
   "outputs": [],
   "source": [
    "class SLinearRegression:\n",
    "    def __init__(self):\n",
    "        self.w = None\n",
    "\n",
    "    def fit(self, X: np.ndarray, y: np.ndarray):\n",
    "        X = np.insert(X, 0, 1, axis=1)\n",
    "        self.w = lsqr(X, y)[0]\n",
    "\n",
    "    def predict(self, X: np.ndarray) -> np.ndarray:\n",
    "        X = np.insert(X, 0, 1, axis=1)\n",
    "        return np.dot(X, self.w)"
   ]
  },
  {
   "cell_type": "code",
   "execution_count": 36,
   "metadata": {},
   "outputs": [
    {
     "name": "stdout",
     "output_type": "stream",
     "text": [
      "[21.02265388  1.50752749]\n",
      "7.857203028720033\n"
     ]
    }
   ],
   "source": [
    "Sreg = SLinearRegression()\n",
    "Sreg.fit(X, y)\n",
    "print(Sreg.w[1:])\n",
    "print(Sreg.w[0])"
   ]
  },
  {
   "cell_type": "markdown",
   "metadata": {},
   "source": [
    "pinvを使うかsolveを使うかに関しては，\\\n",
    "擬似逆行列を求めて解くで理解，納得できればそっちで良い．\\\n",
    "この方程式を解く．とだけ考えたらsolveで十分かも．\\\n",
    "solveメソッド作った人が数弱のためにこうしてくれてるんじゃないのかな？"
   ]
  },
  {
   "cell_type": "markdown",
   "metadata": {},
   "source": []
  }
 ],
 "metadata": {
  "kernelspec": {
   "display_name": ".venv",
   "language": "python",
   "name": "python3"
  },
  "language_info": {
   "codemirror_mode": {
    "name": "ipython",
    "version": 3
   },
   "file_extension": ".py",
   "mimetype": "text/x-python",
   "name": "python",
   "nbconvert_exporter": "python",
   "pygments_lexer": "ipython3",
   "version": "3.9.6"
  }
 },
 "nbformat": 4,
 "nbformat_minor": 2
}
