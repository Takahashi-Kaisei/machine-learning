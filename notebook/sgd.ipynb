{
 "cells": [
  {
   "cell_type": "code",
   "execution_count": 30,
   "metadata": {},
   "outputs": [],
   "source": [
    "%matplotlib inline\n",
    "import matplotlib.pyplot as plt\n",
    "import seaborn as sns\n",
    "import numpy as np\n",
    "import pandas as pd\n",
    "\n",
    "sns.set_theme(style='whitegrid', palette='colorblind')"
   ]
  },
  {
   "cell_type": "markdown",
   "metadata": {},
   "source": [
    "確率的勾配降下法\n",
    "\n",
    "- どんな問題を扱うアルゴリズム？\n",
    "->解析的に解が得られない問題に対して，最適解を求めるためのアルゴリズム\n",
    "\n",
    "- 入力と出力は？\n",
    "->fitでは，入力：データ 出力：パラメータ\n",
    "->predictでは，入力：データ 出力：予測値\n",
    "\n",
    "- どのような操作が行われている？\n",
    "   - パラメータの初期値を設定\n",
    "   - データからサンプリング\n",
    "   - "
   ]
  },
  {
   "cell_type": "code",
   "execution_count": 25,
   "metadata": {},
   "outputs": [],
   "source": [
    "# シードを固定\n",
    "np.random.seed(0)\n",
    "\n",
    "# ダミーデータを生成\n",
    "x = np.linspace(25, 35, 50)\n",
    "noise = np.random.normal(0, 1, size=x.shape)\n",
    "y = 2 * x + 1 + noise"
   ]
  },
  {
   "cell_type": "code",
   "execution_count": 147,
   "metadata": {},
   "outputs": [
    {
     "data": {
      "text/plain": [
       "[<matplotlib.lines.Line2D at 0x1770b8be0>]"
      ]
     },
     "execution_count": 147,
     "metadata": {},
     "output_type": "execute_result"
    },
    {
     "data": {
      "image/png": "[encoded data removed]",
      "text/plain": [
       "<Figure size 640x480 with 1 Axes>"
      ]
     },
     "metadata": {},
     "output_type": "display_data"
    }
   ],
   "source": [
    "plt.plot(x, y, 'o')"
   ]
  },
  {
   "cell_type": "code",
   "execution_count": 245,
   "metadata": {},
   "outputs": [],
   "source": [
    "class SGD:\n",
    "    def __init__(self, lr: float = 0.001, max_iter: int = 300):\n",
    "        self.lr = lr\n",
    "        self.a = np.random.normal(0, 1)\n",
    "        self.b = np.random.normal(0, 1)\n",
    "        self.max_iter = max_iter\n",
    "\n",
    "    def fit(self, x, y, sampling_num: int=1):\n",
    "        for _ in range(self.max_iter):\n",
    "            sample = np.random.randint(0, x.shape[0], sampling_num)\n",
    "            x_ = x[sample]\n",
    "            y_ = y[sample]\n",
    "            l = self.predict(x_) - y_\n",
    "\n",
    "            self.a = self.a - self.lr * l*x_\n",
    "            self.b = self.b - self.lr * l\n",
    "\n",
    "    def predict(self, x):\n",
    "        return self.a * x + self.b"
   ]
  },
  {
   "cell_type": "code",
   "execution_count": 275,
   "metadata": {},
   "outputs": [
    {
     "name": "stdout",
     "output_type": "stream",
     "text": [
      "[2.02568061] [0.33333258]\n"
     ]
    }
   ],
   "source": [
    "model = SGD()\n",
    "model.fit(x, y)\n",
    "print(model.a, model.b)"
   ]
  },
  {
   "cell_type": "code",
   "execution_count": 247,
   "metadata": {},
   "outputs": [
    {
     "data": {
      "text/plain": [
       "array([51.30276871, 51.71202579, 52.12128286, 52.53053993, 52.939797  ,\n",
       "       53.34905408, 53.75831115, 54.16756822, 54.5768253 , 54.98608237,\n",
       "       55.39533944, 55.80459651, 56.21385359, 56.62311066, 57.03236773,\n",
       "       57.4416248 , 57.85088188, 58.26013895, 58.66939602, 59.0786531 ,\n",
       "       59.48791017, 59.89716724, 60.30642431, 60.71568139, 61.12493846,\n",
       "       61.53419553, 61.94345261, 62.35270968, 62.76196675, 63.17122382,\n",
       "       63.5804809 , 63.98973797, 64.39899504, 64.80825211, 65.21750919,\n",
       "       65.62676626, 66.03602333, 66.44528041, 66.85453748, 67.26379455,\n",
       "       67.67305162, 68.0823087 , 68.49156577, 68.90082284, 69.31007992,\n",
       "       69.71933699, 70.12859406, 70.53785113, 70.94710821, 71.35636528])"
      ]
     },
     "execution_count": 247,
     "metadata": {},
     "output_type": "execute_result"
    }
   ],
   "source": [
    "model.predict(x)"
   ]
  },
  {
   "cell_type": "code",
   "execution_count": null,
   "metadata": {},
   "outputs": [],
   "source": []
  }
 ],
 "metadata": {
  "kernelspec": {
   "display_name": ".venv",
   "language": "python",
   "name": "python3"
  },
  "language_info": {
   "codemirror_mode": {
    "name": "ipython",
    "version": 3
   },
   "file_extension": ".py",
   "mimetype": "text/x-python",
   "name": "python",
   "nbconvert_exporter": "python",
   "pygments_lexer": "ipython3",
   "version": "3.9.6"
  }
 },
 "nbformat": 4,
 "nbformat_minor": 2
}
